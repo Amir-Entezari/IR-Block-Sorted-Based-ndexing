{
 "cells": [
  {
   "cell_type": "code",
   "execution_count": 1,
   "metadata": {
    "collapsed": true,
    "ExecuteTime": {
     "start_time": "2023-11-23T12:56:07.496000Z",
     "end_time": "2023-11-23T12:56:09.302021Z"
    }
   },
   "outputs": [
    {
     "name": "stderr",
     "output_type": "stream",
     "text": [
      "[nltk_data] Error loading punkt: <urlopen error [SSL:\n",
      "[nltk_data]     CERTIFICATE_VERIFY_FAILED] certificate verify failed:\n",
      "[nltk_data]     certificate is not yet valid (_ssl.c:1006)>\n",
      "[nltk_data] Error loading stopwords: <urlopen error [SSL:\n",
      "[nltk_data]     CERTIFICATE_VERIFY_FAILED] certificate verify failed:\n",
      "[nltk_data]     certificate is not yet valid (_ssl.c:1006)>\n"
     ]
    }
   ],
   "source": [
    "from src.preprocessing import preprocess_documents\n",
    "from src.indexing import InvertedIndex\n",
    "from src.querying import QueryProcessor\n",
    "import os\n"
   ]
  },
  {
   "cell_type": "code",
   "execution_count": 2,
   "outputs": [],
   "source": [
    "# Initialize the Information Retrieval System with the preprocessed documents\n",
    "inverted_index = InvertedIndex()\n",
    "# Get documents' path\n",
    "dataset_path = '../dataset/raw'\n",
    "inverted_index.get_document_paths(path=dataset_path)\n",
    "# Tokenize documents\n",
    "inverted_index.create_posting_list(batch_size=5)"
   ],
   "metadata": {
    "collapsed": false,
    "ExecuteTime": {
     "start_time": "2023-11-23T12:56:09.305758Z",
     "end_time": "2023-11-23T12:56:09.355109Z"
    }
   }
  },
  {
   "cell_type": "code",
   "execution_count": 4,
   "outputs": [
    {
     "name": "stdout",
     "output_type": "stream",
     "text": [
      "[]\n",
      "[11, 13, 14]\n",
      "[11, 13, 14]\n",
      "[10, 7]\n",
      "[0, 1, 2, 3, 4, 5, 6, 7, 8, 9, 10, 12]\n"
     ]
    }
   ],
   "source": [
    "ir_system = QueryProcessor(inverted_index)\n",
    "# # Now we test our sample\n",
    "print(ir_system.search('another'))\n",
    "print(ir_system.search('back or another'))\n",
    "print(ir_system.search('back'))\n",
    "print(ir_system.search('young'))\n",
    "print(ir_system.search('not back'))\n"
   ],
   "metadata": {
    "collapsed": false,
    "ExecuteTime": {
     "start_time": "2023-11-23T12:57:01.554597Z",
     "end_time": "2023-11-23T12:57:01.596490Z"
    }
   }
  }
 ],
 "metadata": {
  "kernelspec": {
   "display_name": "Python 3",
   "language": "python",
   "name": "python3"
  },
  "language_info": {
   "codemirror_mode": {
    "name": "ipython",
    "version": 2
   },
   "file_extension": ".py",
   "mimetype": "text/x-python",
   "name": "python",
   "nbconvert_exporter": "python",
   "pygments_lexer": "ipython2",
   "version": "2.7.6"
  }
 },
 "nbformat": 4,
 "nbformat_minor": 0
}
